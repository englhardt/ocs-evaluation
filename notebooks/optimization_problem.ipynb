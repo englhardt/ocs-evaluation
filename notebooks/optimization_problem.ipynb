{
 "cells": [
  {
   "cell_type": "markdown",
   "metadata": {},
   "source": [
    "# One-Class Sampling as an Optimization Problem"
   ]
  },
  {
   "cell_type": "markdown",
   "metadata": {},
   "source": [
    "$$\n",
    "\\begin{align}\n",
    "    \\text{SOP}\\colon \\! & \\underset{\\mathbf{v}, \\mathbf{w}, \\theta_\\text{min}, \\theta_\\text{max}}{\\text{minimize}} \\quad \\theta_\\text{max} - \\theta_\\text{min}\\\\[1ex]\n",
    "     \\text{s.t.} & \\sum_{j \\in \\mathcal{I}} v_j \\! \\cdot \\! k(x_i, x_j) \\geq  \\theta_\\text{min}, \\, \\forall i \\in \\mathcal{I}\\\\\n",
    "     & \\sum_{j \\in \\mathcal{I}} v_j \\! \\cdot \\! k(x_i, x_j) \\leq v_i \\! \\cdot \\theta_\\text{max}, \\, \\forall i \\in \\mathcal{I} \\\\\n",
    "     & \\sum_{j \\in \\mathcal{I}} w_i \\! \\cdot \\! v_j \\! \\cdot \\! k(x_i, x_j) \\leq \\theta_{\\text{min}}, \\, \\forall i \\in \\mathcal{I} \\\\\n",
    "     & \\sum_{j \\in \\mathcal{I}} v_j > 0; \\sum_{j \\in \\mathcal{I}} w_j = 1; \\; v_j \\geq w_j, \\forall j \\in \\mathcal{I}\\cup\\mathcal{O} \\\\\n",
    "     & v_j = 0, \\; \\forall j \\in \\mathcal{O}; v_j, w_j \\in \\{0,1\\}, \\; \\forall j \\in \\{1, \\dots, N\\}\n",
    "\\end{align}\n",
    "$$\n",
    "\n",
    "Reformulated as a linear MIP problem:\n",
    "\n",
    "$$\n",
    "\\begin{align}\n",
    "    \\text{SOP}\\colon \\! & \\underset{\\mathbf{v}, \\mathbf{w}, \\theta_\\text{min}, \\theta_\\text{max}, \\mu}{\\text{minimize}} \\quad \\theta_\\text{max} - \\theta_\\text{min}\\\\[1ex]\n",
    "     \\text{s.t.} & \\sum_{j \\in \\mathcal{I}} v_j \\! \\cdot \\! k(x_i, x_j) \\geq  \\color{red}{ v_i} \\! \\cdot \\theta_\\text{min}, \\, \\forall i \\in \\mathcal{I}\\\\\n",
    "     & \\sum_{j \\in \\mathcal{I}} v_j \\! \\cdot \\! k(x_i, x_j) \\leq v_i \\! \\cdot \\theta_\\text{max}, \\, \\forall i \\in \\mathcal{I} \\\\\n",
    "     & \\color{red}{\\mu \\geq \\theta_\\text{min}}\\\\\n",
    "     & \\color{red}{\\sum_{j \\in \\mathcal{I}} v_j \\! \\cdot \\! k(x_i, x_j) \\geq \\mu, \\, \\forall i \\in \\mathcal{I} }\\\\\n",
    "     & \\color{red}{\\sum_{j \\in \\mathcal{I}} v_j \\! \\cdot \\! k(x_i, x_j) - (N - 1)\\! \\cdot \\!(1 - w_i)\\leq \\mu, \\, \\forall i \\in \\mathcal{I} }\\\\\n",
    "     & \\sum_{j \\in \\mathcal{I}} v_j > 0; \\sum_{j \\in \\mathcal{I}} w_j = 1\\\\\n",
    "     & v_j = 0, \\; \\forall j \\in \\mathcal{O}; v_j, w_j \\in \\{0,1\\}, \\; \\forall j \\in \\{1, \\dots, N\\}\n",
    "\\end{align}\n",
    "$$\n"
   ]
  },
  {
   "cell_type": "code",
   "execution_count": null,
   "metadata": {},
   "outputs": [],
   "source": [
    "using Pkg\n",
    "Pkg.activate(\"..\")\n",
    "using SVDD\n",
    "using OneClassActiveLearning\n",
    "using OneClassSampling\n",
    "using MLKernels\n",
    "using Random\n",
    "using JuMP, Gurobi\n",
    "using Printf\n",
    "using Plots\n",
    "pyplot()"
   ]
  },
  {
   "cell_type": "markdown",
   "metadata": {},
   "source": [
    "Silent logging"
   ]
  },
  {
   "cell_type": "code",
   "execution_count": null,
   "metadata": {},
   "outputs": [],
   "source": [
    "using Memento\n",
    "Memento.config!(OneClassSampling.LOGGER, \"warn\"; fmt=\"[{level} | {name}]: {msg}\")\n",
    "Memento.config!(SVDD.LOGGER, \"warn\"; fmt=\"[{level} | {name}]: {msg}\")"
   ]
  },
  {
   "cell_type": "markdown",
   "metadata": {},
   "source": [
    "Load helpers"
   ]
  },
  {
   "cell_type": "code",
   "execution_count": null,
   "metadata": {
    "scrolled": true
   },
   "outputs": [],
   "source": [
    "include(\"../scripts/util/evaluate.jl\")\n",
    "function evaluate_with_svdd(model::DataType, init_strategy, solver,\n",
    "                            data::Array{Float64, 2}, labels::Vector{Symbol},\n",
    "                            test_data::Array{Float64, 2}, test_labels::Vector{Symbol},\n",
    "                            quality_metrics)\n",
    "    time_train = @elapsed model = train_svdd_model(model, init_strategy, solver, data, labels)\n",
    "    time_pred = @elapsed pred = predict_svdd_model(model, test_data)\n",
    "    scores = evaluate_prediction(quality_metrics, test_labels, pred)\n",
    "    gamma = MLKernels.getvalue(model.kernel_fct.alpha)\n",
    "    C = model.C\n",
    "    num_support_vectors = length(SVDD.get_support_vectors(model))\n",
    "    add_evaluation_stats!(scores, time_train, time_pred, gamma, C, num_support_vectors)\n",
    "    return scores, model\n",
    "end"
   ]
  },
  {
   "cell_type": "code",
   "execution_count": null,
   "metadata": {
    "scrolled": true
   },
   "outputs": [],
   "source": [
    "function ocs_visualize_2d(x, l, x_plot_axis, sample_mask, original_model, name=nothing, c=:red)\n",
    "    grid = hcat([[x,y] for x in x_plot_axis for y in x_plot_axis]...)\n",
    "    grid_pred = SVDD.predict(original_model, grid)\n",
    "    f = contour(x_plot_axis, x_plot_axis, reshape(grid_pred , length(x_plot_axis), length(x_plot_axis)), levels=[0], linewidth=2, color=:grey, cbar=false, legend=false)\n",
    "    if !all(sample_mask)\n",
    "        scatter!(x[1, .!sample_mask], x[2, .!sample_mask], ms=5, color=:grey, markerstrokecolor=:grey)\n",
    "    end\n",
    "\n",
    "    if count(sample_mask) > 1\n",
    "        scores, model = evaluate_with_svdd(VanillaSVDD, init_strat, solver, x[:, sample_mask], l, x, l, quality_metrics)        \n",
    "        grid = hcat([[x,y] for x in x_plot_axis for y in x_plot_axis]...)\n",
    "        grid_pred = SVDD.predict(model, grid)\n",
    "        contour!(x_plot_axis, x_plot_axis, reshape(grid_pred , length(x_plot_axis), length(x_plot_axis)), levels=[0], linewidth=2, color=c, style=:dash, cbar=false, legend=false)\n",
    "    end\n",
    "    scatter!(x[1, sample_mask], x[2, sample_mask], marker=:diamond, ms=7, color=c)\n",
    "    xlims!(-7, 9.5)\n",
    "    ylims!(-10, 10.5)\n",
    "    annotate!([(1.25, -9, Plots.text(name, :center, 16))])\n",
    "    return scores, plot(f, xaxis=false, yaxis=false, grid=false, legend=false, size=(600, 250))\n",
    "end"
   ]
  },
  {
   "cell_type": "code",
   "execution_count": null,
   "metadata": {
    "scrolled": true
   },
   "outputs": [],
   "source": [
    "function run_visualize_2d(s, x, l, x_plot_axis, title_ext, c=:red)\n",
    "    sampling_failed = false\n",
    "    sample_mask = falses(length(l))\n",
    "    try\n",
    "        Random.seed!(0)\n",
    "        sample_mask = OneClassSampling.sample(s, x, l)\n",
    "    catch e\n",
    "        @show e\n",
    "        sampling_failed = true\n",
    "    end\n",
    "    title_plot = @sprintf \"%s (|S| = %d)\" title_ext count(sample_mask)\n",
    "    scores, p = ocs_visualize_2d(x, l, x_plot_axis, sample_mask, original_model, title_plot, c)\n",
    "    pad = length(title_ext) > 5 ? \"\\t\" : \"\\t\\t\"\n",
    "    if sampling_failed\n",
    "        stats = @sprintf \"[%s]%s Sampling failed\" title_ext pad\n",
    "    else\n",
    "        stats = @sprintf \"[%s]%s Sample size %5d\\tratio = %3.2f\" title_ext pad count(sample_mask) (count(sample_mask) / length(l))\n",
    "        if scores !== nothing\n",
    "            stats *= @sprintf \"\\t#SVs = %5d\" scores[:num_support_vectors]\n",
    "        end\n",
    "    end\n",
    "    println(stats)\n",
    "    return p\n",
    "end"
   ]
  },
  {
   "cell_type": "markdown",
   "metadata": {},
   "source": [
    "### Model Parameters"
   ]
  },
  {
   "cell_type": "code",
   "execution_count": null,
   "metadata": {},
   "outputs": [],
   "source": [
    "gurobi_env = Gurobi.Env()\n",
    "solver = with_optimizer(Gurobi.Optimizer, gurobi_env; OutputFlag=0, Threads=1)\n",
    "quality_metrics = Dict(:mcc => matthews_corr, :kappa => cohens_kappa, :f1 => f1_score)"
   ]
  },
  {
   "cell_type": "markdown",
   "metadata": {},
   "source": [
    "Generate Data"
   ]
  },
  {
   "cell_type": "code",
   "execution_count": null,
   "metadata": {},
   "outputs": [],
   "source": [
    "Random.seed!(0)\n",
    "\n",
    "r, noise, n = 5, 0.1, 100\n",
    "x = hcat(randn(2, Int(n / 2)) * 2 .+ 3, randn(2, Int(n / 2)) * 1.5 .- 2)\n",
    "l = fill(:inlier, n)\n",
    "\n",
    "x_plot = hcat([[x, y] for x in range(-10, stop=12, length=100) for y in range(-10, stop=12, length=100)]...)\n",
    "x_plot_axis = collect(range(-10, stop=12, length=100))\n",
    "\n",
    "gamma = 0.025\n",
    "init_strat = SVDD.SimpleCombinedStrategy(SVDD.FixedGammaStrategy(MLKernels.GaussianKernel(gamma)), SVDD.FixedCStrategy(1))"
   ]
  },
  {
   "cell_type": "code",
   "execution_count": null,
   "metadata": {},
   "outputs": [],
   "source": [
    "_, original_model = evaluate_with_svdd(VanillaSVDD, init_strat, solver, x, l, x, l, quality_metrics);"
   ]
  },
  {
   "cell_type": "code",
   "execution_count": null,
   "metadata": {},
   "outputs": [],
   "source": [
    "c = KDECache(x, gamma)\n",
    "K = c.K"
   ]
  },
  {
   "cell_type": "code",
   "execution_count": null,
   "metadata": {},
   "outputs": [],
   "source": [
    "N = size(x, 2)\n",
    "OP = Model(solver)\n",
    "\n",
    "@variable(OP, v[1:N], Bin)\n",
    "@variable(OP, w[1:N], Bin)\n",
    "@variable(OP, θ_h)\n",
    "@variable(OP, θ_l)\n",
    "@variable(OP, μ)\n",
    "@objective(OP, Min, θ_h - θ_l)\n",
    "\n",
    "@constraint(OP, mintheta[i = 1:N], sum(v[j] * K[i, j] for j in 1:N) >= v[i] * θ_l)\n",
    "@constraint(OP, maxtheta[i = 1:N], sum(v[j] * K[i, j] for j in 1:N) <= v[i] * θ_h)\n",
    "\n",
    "@constraint(OP, sum(v) >= 1)\n",
    "@constraint(OP, sum(w) >= 1)\n",
    "@constraint(OP, sum(w) <= 1)\n",
    "@constraint(OP, μ >= θ_l)\n",
    "@constraint(OP, minmu[i = 1:N], sum(v[j] * K[i, j] for j in 1:N) >= μ)\n",
    "@constraint(OP, maxmu[i = 1:N], sum(v[j] * K[i, j] for j in 1:N) - (N - 1) * (1 - w[i]) <= μ)\n",
    "\n",
    "JuMP.optimize!(OP)\n",
    "\n",
    "if termination_status(OP) == MOI.OPTIMAL\n",
    "    v_sol = convert(BitArray, round.(JuMP.value.(v), digits=0))\n",
    "    opt=objective_value(OP)\n",
    "else\n",
    "    v_sol = fill(size(x,2), 1)\n",
    "    opt = Inf\n",
    "end"
   ]
  },
  {
   "cell_type": "code",
   "execution_count": null,
   "metadata": {},
   "outputs": [],
   "source": [
    "sum(v_sol)"
   ]
  },
  {
   "cell_type": "code",
   "execution_count": null,
   "metadata": {},
   "outputs": [],
   "source": [
    "_, p = ocs_visualize_2d(x, l, x_plot_axis, v_sol, original_model, \"Test\", :red)\n",
    "p"
   ]
  }
 ],
 "metadata": {
  "@webio": {
   "lastCommId": null,
   "lastKernelId": null
  },
  "kernelspec": {
   "display_name": "Julia 1.3.1",
   "language": "julia",
   "name": "julia-1.3"
  },
  "language_info": {
   "file_extension": ".jl",
   "mimetype": "application/julia",
   "name": "julia",
   "version": "1.3.1"
  }
 },
 "nbformat": 4,
 "nbformat_minor": 4
}
